{
 "cells": [
  {
   "cell_type": "markdown",
   "id": "9705d68c-e4f1-49bd-9a40-f7b24a8a1e5d",
   "metadata": {},
   "source": [
    "### 1. Remember the format() function we used in the last video?? Now pass 145 and ‘o’ in the function and see what it returns. Try to find out which representation it is"
   ]
  },
  {
   "cell_type": "code",
   "execution_count": 3,
   "id": "031a3413-dbca-46c3-80a1-d8c56b1293a2",
   "metadata": {},
   "outputs": [
    {
     "data": {
      "text/plain": [
       "'221'"
      ]
     },
     "execution_count": 3,
     "metadata": {},
     "output_type": "execute_result"
    }
   ],
   "source": [
    "format(145, 'o')"
   ]
  },
  {
   "cell_type": "markdown",
   "id": "4bd13146-f6ef-4391-b49c-9c89342d7404",
   "metadata": {},
   "source": [
    "### 2. There is a circular pond in a village. This pond has a radius of 84 meters. Can you find the area of the pond? (Bonus: If there is exactly 1.4 liter of water in a square meter, what is the total amount of water in the pond?)"
   ]
  },
  {
   "cell_type": "code",
   "execution_count": 4,
   "id": "a9854696-3c1f-4efe-ab07-892b3bc0fd1e",
   "metadata": {},
   "outputs": [],
   "source": [
    "import math"
   ]
  },
  {
   "cell_type": "code",
   "execution_count": 8,
   "id": "fae48714-bf21-4dfa-83e7-b92b8ba32b53",
   "metadata": {},
   "outputs": [
    {
     "name": "stdout",
     "output_type": "stream",
     "text": [
      "22167.08\n"
     ]
    }
   ],
   "source": [
    "# Area of the pond\n",
    "r = 84\n",
    "A = math.pi * r ** 2\n",
    "\n",
    "print(round(A, 2))"
   ]
  },
  {
   "cell_type": "code",
   "execution_count": 14,
   "id": "452340ae-32ea-494d-8b21-70eb3eca93c2",
   "metadata": {},
   "outputs": [
    {
     "name": "stdout",
     "output_type": "stream",
     "text": [
      "The total volume of the pond is: 31033.90886922141\n"
     ]
    }
   ],
   "source": [
    "# Volume in the pond\n",
    "Vm2 = 1.4\n",
    "vol_total = Vm2 * A\n",
    "\n",
    "print(f'The total volume of the pond is: {vol_total}')"
   ]
  },
  {
   "cell_type": "markdown",
   "id": "af55b7d9-872f-405c-a84d-cf0d3ea31e99",
   "metadata": {},
   "source": [
    "### 3. If you cross a 490-meter-long street in 7 minutes, then what is your speed in meters per second? Print your answer without any decimal point in it."
   ]
  },
  {
   "cell_type": "code",
   "execution_count": 17,
   "id": "964a4fa5-6b4a-46e2-b573-949a2b5d2384",
   "metadata": {},
   "outputs": [
    {
     "name": "stdout",
     "output_type": "stream",
     "text": [
      "The speed is in meters per sec: 1\n"
     ]
    }
   ],
   "source": [
    "distance = 490\n",
    "time = 7\n",
    "timeSec = time * 60\n",
    "speed = int(distance / timeSec)\n",
    "\n",
    "print(f'The speed is in meters per sec: {speed}')"
   ]
  },
  {
   "cell_type": "code",
   "execution_count": null,
   "id": "ac04b9f5-630c-4c90-8bf2-545651633170",
   "metadata": {},
   "outputs": [],
   "source": []
  }
 ],
 "metadata": {
  "kernelspec": {
   "display_name": "Python 3 (ipykernel)",
   "language": "python",
   "name": "python3"
  },
  "language_info": {
   "codemirror_mode": {
    "name": "ipython",
    "version": 3
   },
   "file_extension": ".py",
   "mimetype": "text/x-python",
   "name": "python",
   "nbconvert_exporter": "python",
   "pygments_lexer": "ipython3",
   "version": "3.11.4"
  }
 },
 "nbformat": 4,
 "nbformat_minor": 5
}
