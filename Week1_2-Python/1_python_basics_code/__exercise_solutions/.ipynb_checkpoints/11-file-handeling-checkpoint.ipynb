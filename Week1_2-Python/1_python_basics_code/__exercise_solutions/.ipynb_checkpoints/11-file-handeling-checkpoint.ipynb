{
 "nbformat": 4,
 "nbformat_minor": 0,
 "metadata": {
  "colab": {
   "name": "11_file_handeling.ipynb",
   "provenance": [],
   "collapsed_sections": []
  },
  "kernelspec": {
   "name": "python3",
   "language": "python",
   "display_name": "Python 3 (ipykernel)"
  },
  "language_info": {
   "name": "python"
  }
 },
 "cells": [
  {
   "cell_type": "markdown",
   "source": [
    "# File Handling Exercise\n",
    "\n",
    "Solution"
   ],
   "metadata": {
    "id": "iE5ttd3Qh3ZM"
   }
  },
  {
   "cell_type": "markdown",
   "source": [
    "### 1. student_marks.csv contains the marks and other details for some students. Write a python program to:\n",
    "- Open the file in read mode\n",
    "- Create dictionary from the given data\n",
    "- Add a new field to the dictionary `total_marks` and store total marks of the students.\n",
    "- Add new field to the dictionary `Average` and store average marks of the students\n",
    "- Sort the data according to the average marks of the students\n",
    "- Create a new file and write this information to the new file\n",
    "\t(https://www.kaggle.com/arunkumar413/student-marks)"
   ],
   "metadata": {
    "id": "3NAQCYVOiA0q"
   }
  },
  {
   "cell_type": "code",
   "execution_count": 28,
   "metadata": {
    "id": "tmmX25fjhy4U",
    "ExecuteTime": {
     "end_time": "2023-08-20T12:24:38.030423981Z",
     "start_time": "2023-08-20T12:24:37.958211453Z"
    }
   },
   "outputs": [],
   "source": [
    "# downloading and saving the file\n",
    "# TODO: use the given link to download the file\n",
    "# TODO: Save the file in the current directory after downloading"
   ]
  },
  {
   "cell_type": "code",
   "source": [
    "# opening the file in read mode\n",
    "f = open('student_marks.csv', 'r')"
   ],
   "metadata": {
    "id": "F-LG55PmjIqK",
    "ExecuteTime": {
     "end_time": "2023-08-20T12:24:38.030810422Z",
     "start_time": "2023-08-20T12:24:38.000776826Z"
    }
   },
   "execution_count": 29,
   "outputs": []
  },
  {
   "cell_type": "code",
   "source": [
    "f.read()\n"
   ],
   "metadata": {
    "colab": {
     "base_uri": "https://localhost:8080/",
     "height": 70
    },
    "id": "d8jfJcaR3fZ6",
    "outputId": "a47b639b-525f-4d9a-ac6a-1d0a35803357",
    "ExecuteTime": {
     "end_time": "2023-08-20T12:24:38.031349650Z",
     "start_time": "2023-08-20T12:24:38.001118971Z"
    }
   },
   "execution_count": 30,
   "outputs": [
    {
     "data": {
      "text/plain": "',Gender,DOB,Maths,Physics,Chemistry,English,Biology,Economics,History,Civics\\nJohn,M,05/04/1988,55,45,56,87,21,52,89,65\\nSuresh,M,4/5/1987,75,55,,64,90,61,58,2\\nRamesh,M,25/5/1989,25,54,89,76,95,87,56,74\\nJessica,F,12/8/1990,78,55,86,63,54,89,75,45\\nJennifer,F,2/9/1989,58,96,78,46,96,77,83,53'"
     },
     "execution_count": 30,
     "metadata": {},
     "output_type": "execute_result"
    }
   ]
  },
  {
   "cell_type": "code",
   "source": [
    "# creating dictionary\n",
    "f.seek(0)  #goto the start again\n",
    "d = {}\n",
    "keys = f.readline()\n",
    "keys"
   ],
   "metadata": {
    "colab": {
     "base_uri": "https://localhost:8080/",
     "height": 35
    },
    "id": "JUGGakOk3lny",
    "outputId": "483cecc8-0e8c-4338-a943-01ef83dc8610",
    "ExecuteTime": {
     "end_time": "2023-08-20T12:24:38.031808100Z",
     "start_time": "2023-08-20T12:24:38.001460689Z"
    }
   },
   "execution_count": 31,
   "outputs": [
    {
     "data": {
      "text/plain": "',Gender,DOB,Maths,Physics,Chemistry,English,Biology,Economics,History,Civics\\n'"
     },
     "execution_count": 31,
     "metadata": {},
     "output_type": "execute_result"
    }
   ]
  },
  {
   "cell_type": "code",
   "source": [
    "keys = keys.split(',')\n",
    "keys"
   ],
   "metadata": {
    "colab": {
     "base_uri": "https://localhost:8080/"
    },
    "id": "yYO04D7U32cW",
    "outputId": "a665d3c6-8d9c-4162-b5a1-09b0873fd38d",
    "ExecuteTime": {
     "end_time": "2023-08-20T12:24:38.032186043Z",
     "start_time": "2023-08-20T12:24:38.001772316Z"
    }
   },
   "execution_count": 32,
   "outputs": [
    {
     "data": {
      "text/plain": "['',\n 'Gender',\n 'DOB',\n 'Maths',\n 'Physics',\n 'Chemistry',\n 'English',\n 'Biology',\n 'Economics',\n 'History',\n 'Civics\\n']"
     },
     "execution_count": 32,
     "metadata": {},
     "output_type": "execute_result"
    }
   ]
  },
  {
   "cell_type": "code",
   "source": [
    "# initializing the dictionary\n",
    "for key in keys:\n",
    "    d[key] = []\n",
    "\n",
    "print(d)"
   ],
   "metadata": {
    "colab": {
     "base_uri": "https://localhost:8080/"
    },
    "id": "aaxnoYQL4Uyz",
    "outputId": "e89a9c0b-1be4-444e-fb3a-b6bed25e0eec",
    "ExecuteTime": {
     "end_time": "2023-08-20T12:24:38.032551489Z",
     "start_time": "2023-08-20T12:24:38.002051699Z"
    }
   },
   "execution_count": 33,
   "outputs": [
    {
     "name": "stdout",
     "output_type": "stream",
     "text": [
      "{'': [], 'Gender': [], 'DOB': [], 'Maths': [], 'Physics': [], 'Chemistry': [], 'English': [], 'Biology': [], 'Economics': [], 'History': [], 'Civics\\n': []}\n"
     ]
    }
   ]
  },
  {
   "cell_type": "code",
   "source": [
    "# Adding data to the dictionary\n",
    "for line in f.readlines():\n",
    "    data = line.split(',')\n",
    "    j = 0\n",
    "    for i in d:\n",
    "        d[i].append(data[j])\n",
    "        j += 1\n",
    "\n",
    "print(d)"
   ],
   "metadata": {
    "colab": {
     "base_uri": "https://localhost:8080/"
    },
    "id": "Mu62lr4l4zN3",
    "outputId": "702dff7e-d6d8-4c76-d3bb-44c30b78da17",
    "ExecuteTime": {
     "end_time": "2023-08-20T12:24:38.032895269Z",
     "start_time": "2023-08-20T12:24:38.002466255Z"
    }
   },
   "execution_count": 34,
   "outputs": [
    {
     "name": "stdout",
     "output_type": "stream",
     "text": [
      "{'': ['John', 'Suresh', 'Ramesh', 'Jessica', 'Jennifer'], 'Gender': ['M', 'M', 'M', 'F', 'F'], 'DOB': ['05/04/1988', '4/5/1987', '25/5/1989', '12/8/1990', '2/9/1989'], 'Maths': ['55', '75', '25', '78', '58'], 'Physics': ['45', '55', '54', '55', '96'], 'Chemistry': ['56', '', '89', '86', '78'], 'English': ['87', '64', '76', '63', '46'], 'Biology': ['21', '90', '95', '54', '96'], 'Economics': ['52', '61', '87', '89', '77'], 'History': ['89', '58', '56', '75', '83'], 'Civics\\n': ['65\\n', '2\\n', '74\\n', '45\\n', '53']}\n"
     ]
    }
   ]
  },
  {
   "cell_type": "code",
   "source": [
    "import pprint\n",
    "pprint.pprint(d)"
   ],
   "metadata": {
    "colab": {
     "base_uri": "https://localhost:8080/"
    },
    "id": "cdxhn50W5RHq",
    "outputId": "663bb99b-07dd-4254-ad3a-cf22c7e8f4aa",
    "ExecuteTime": {
     "end_time": "2023-08-20T12:24:38.033288487Z",
     "start_time": "2023-08-20T12:24:38.002766032Z"
    }
   },
   "execution_count": 35,
   "outputs": [
    {
     "name": "stdout",
     "output_type": "stream",
     "text": [
      "{'': ['John', 'Suresh', 'Ramesh', 'Jessica', 'Jennifer'],\n",
      " 'Biology': ['21', '90', '95', '54', '96'],\n",
      " 'Chemistry': ['56', '', '89', '86', '78'],\n",
      " 'Civics\\n': ['65\\n', '2\\n', '74\\n', '45\\n', '53'],\n",
      " 'DOB': ['05/04/1988', '4/5/1987', '25/5/1989', '12/8/1990', '2/9/1989'],\n",
      " 'Economics': ['52', '61', '87', '89', '77'],\n",
      " 'English': ['87', '64', '76', '63', '46'],\n",
      " 'Gender': ['M', 'M', 'M', 'F', 'F'],\n",
      " 'History': ['89', '58', '56', '75', '83'],\n",
      " 'Maths': ['55', '75', '25', '78', '58'],\n",
      " 'Physics': ['45', '55', '54', '55', '96']}\n"
     ]
    }
   ]
  },
  {
   "cell_type": "code",
   "source": [
    "d.values()"
   ],
   "metadata": {
    "colab": {
     "base_uri": "https://localhost:8080/"
    },
    "id": "cePwcNe4-AQW",
    "outputId": "0be76e61-a8ea-4b1d-ff9b-76520d968a5c",
    "ExecuteTime": {
     "end_time": "2023-08-20T12:24:38.140107880Z",
     "start_time": "2023-08-20T12:24:38.009052597Z"
    }
   },
   "execution_count": 36,
   "outputs": [
    {
     "data": {
      "text/plain": "dict_values([['John', 'Suresh', 'Ramesh', 'Jessica', 'Jennifer'], ['M', 'M', 'M', 'F', 'F'], ['05/04/1988', '4/5/1987', '25/5/1989', '12/8/1990', '2/9/1989'], ['55', '75', '25', '78', '58'], ['45', '55', '54', '55', '96'], ['56', '', '89', '86', '78'], ['87', '64', '76', '63', '46'], ['21', '90', '95', '54', '96'], ['52', '61', '87', '89', '77'], ['89', '58', '56', '75', '83'], ['65\\n', '2\\n', '74\\n', '45\\n', '53']])"
     },
     "execution_count": 36,
     "metadata": {},
     "output_type": "execute_result"
    }
   ]
  },
  {
   "cell_type": "code",
   "source": [
    "# Calculating the total marks\n",
    "d['Total Marks'] = [0]*5\n",
    "for i in range(5):\n",
    "    for key in d:\n",
    "        try:\n",
    "            d['Total Marks'][i] += int(d[key][i])\n",
    "        except:\n",
    "            pass\n",
    "print(d['Total Marks'])\n",
    "    "
   ],
   "metadata": {
    "colab": {
     "base_uri": "https://localhost:8080/"
    },
    "id": "h4JxgeRG5rLB",
    "outputId": "07b5bd39-2eb9-40e0-d1fb-df1ee1a66e31",
    "ExecuteTime": {
     "end_time": "2023-08-20T12:24:38.140633239Z",
     "start_time": "2023-08-20T12:24:38.051139040Z"
    }
   },
   "execution_count": 37,
   "outputs": [
    {
     "name": "stdout",
     "output_type": "stream",
     "text": [
      "[940, 810, 1112, 1090, 1174]\n"
     ]
    }
   ]
  }
 ]
}
