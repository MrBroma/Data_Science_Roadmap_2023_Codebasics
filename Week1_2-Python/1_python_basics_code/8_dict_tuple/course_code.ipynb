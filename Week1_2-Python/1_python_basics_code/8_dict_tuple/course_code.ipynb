{
 "cells": [
  {
   "cell_type": "code",
   "execution_count": 1,
   "id": "f0ae6138-b51c-4b66-9192-66ae9c6913a0",
   "metadata": {},
   "outputs": [],
   "source": [
    "expenses = [1200,1400,1700]"
   ]
  },
  {
   "cell_type": "code",
   "execution_count": 2,
   "id": "c16ff3e9-02fd-4bca-9eef-c2b8468cc408",
   "metadata": {},
   "outputs": [
    {
     "data": {
      "text/plain": [
       "[1200, 1400, 1700]"
      ]
     },
     "execution_count": 2,
     "metadata": {},
     "output_type": "execute_result"
    }
   ],
   "source": [
    "expenses"
   ]
  },
  {
   "cell_type": "code",
   "execution_count": 3,
   "id": "189ed89c-84df-47dd-8ee3-66e767cf0362",
   "metadata": {},
   "outputs": [],
   "source": [
    "point = [5, 6]"
   ]
  },
  {
   "cell_type": "code",
   "execution_count": 4,
   "id": "03d20ecf-63d3-4e5e-a074-c5f25fded69c",
   "metadata": {},
   "outputs": [
    {
     "data": {
      "text/plain": [
       "[5, 6]"
      ]
     },
     "execution_count": 4,
     "metadata": {},
     "output_type": "execute_result"
    }
   ],
   "source": [
    "point"
   ]
  },
  {
   "cell_type": "code",
   "execution_count": 5,
   "id": "8f24fa32-db25-4e98-946d-3dcf3eefe125",
   "metadata": {},
   "outputs": [],
   "source": [
    "point = (5, 6)"
   ]
  },
  {
   "cell_type": "code",
   "execution_count": 6,
   "id": "be2e5543-f239-4b6c-82e5-5533c64f22fb",
   "metadata": {},
   "outputs": [
    {
     "data": {
      "text/plain": [
       "(5, 6)"
      ]
     },
     "execution_count": 6,
     "metadata": {},
     "output_type": "execute_result"
    }
   ],
   "source": [
    "point"
   ]
  },
  {
   "cell_type": "code",
   "execution_count": 8,
   "id": "691f2c90-f7bd-4daa-ad49-24c5a9079cec",
   "metadata": {},
   "outputs": [
    {
     "data": {
      "text/plain": [
       "5"
      ]
     },
     "execution_count": 8,
     "metadata": {},
     "output_type": "execute_result"
    }
   ],
   "source": [
    "point[0]"
   ]
  },
  {
   "cell_type": "code",
   "execution_count": 9,
   "id": "c65db984-a967-4bd9-8a88-74659da629bc",
   "metadata": {},
   "outputs": [
    {
     "ename": "TypeError",
     "evalue": "'tuple' object does not support item assignment",
     "output_type": "error",
     "traceback": [
      "\u001b[0;31m---------------------------------------------------------------------------\u001b[0m",
      "\u001b[0;31mTypeError\u001b[0m                                 Traceback (most recent call last)",
      "Cell \u001b[0;32mIn[9], line 1\u001b[0m\n\u001b[0;32m----> 1\u001b[0m \u001b[43mpoint\u001b[49m\u001b[43m[\u001b[49m\u001b[38;5;241;43m0\u001b[39;49m\u001b[43m]\u001b[49m \u001b[38;5;241m=\u001b[39m \u001b[38;5;241m7\u001b[39m\n",
      "\u001b[0;31mTypeError\u001b[0m: 'tuple' object does not support item assignment"
     ]
    }
   ],
   "source": [
    "point[0] = 7"
   ]
  },
  {
   "cell_type": "markdown",
   "id": "f174486c-8cb4-4984-9edd-b10684ef44ad",
   "metadata": {},
   "source": [
    "**Tuples doesn't support assignment they are immutable**"
   ]
  },
  {
   "cell_type": "markdown",
   "id": "0918d128-c41b-4eaa-8d81-a55ad8df2627",
   "metadata": {},
   "source": [
    "Once you initialize tuples you can not change its values. i.e. Tuples are immutable. Lists can grow dynamically whereas tuples have a fixed size hence they are more memory efficient"
   ]
  },
  {
   "cell_type": "code",
   "execution_count": 20,
   "id": "aa4e418b-e4a3-496f-8955-4c2163896744",
   "metadata": {},
   "outputs": [],
   "source": [
    "def find_pe_and_pb(price, eps, book_value):\n",
    "    pe = price/eps\n",
    "    pb = price/book_value\n",
    "    return pe, pb\n",
    "# eps = earn per share\n",
    "# PE = Price-to-Earnings (P/E) Ratio\n",
    "# PB = Price to Book (P/B Ratio)"
   ]
  },
  {
   "cell_type": "code",
   "execution_count": 21,
   "id": "4e84c838-5675-4cef-b3b5-5d23ef3ef4f4",
   "metadata": {},
   "outputs": [],
   "source": [
    "pe_ratio, pb_ratio = find_pe_and_pb(100, 2, 4)"
   ]
  },
  {
   "cell_type": "code",
   "execution_count": 22,
   "id": "d691132e-4848-4f68-b9bb-2dc062fa709d",
   "metadata": {},
   "outputs": [
    {
     "data": {
      "text/plain": [
       "50.0"
      ]
     },
     "execution_count": 22,
     "metadata": {},
     "output_type": "execute_result"
    }
   ],
   "source": [
    "pe_ratio"
   ]
  },
  {
   "cell_type": "code",
   "execution_count": 23,
   "id": "cb63b87c-ebbc-4c5a-ae41-0f204fa0680e",
   "metadata": {},
   "outputs": [
    {
     "data": {
      "text/plain": [
       "25.0"
      ]
     },
     "execution_count": 23,
     "metadata": {},
     "output_type": "execute_result"
    }
   ],
   "source": [
    "pb_ratio"
   ]
  },
  {
   "cell_type": "markdown",
   "id": "0a17854b-3cba-4c89-9b8b-398c2084c842",
   "metadata": {},
   "source": [
    "<h3 style='color:blue'>Dictionary</h3>"
   ]
  },
  {
   "cell_type": "markdown",
   "id": "5053c72c-79f7-4cd1-ab00-e5559cea486b",
   "metadata": {},
   "source": [
    "Let's say you want to write a python program that can store phone numbers. Here you will have name of the person and a phone number. Say you have following people and their phone numbers,\n",
    "\n",
    "rachel => 8887771111\n",
    "monica => 9195675555\n",
    "joey => 3332229999\n",
    "\n",
    "One way to store this information is using a list of tuples as shown below,"
   ]
  },
  {
   "cell_type": "code",
   "execution_count": 24,
   "id": "f13c3f95-e9e4-4bbc-a0fe-004ed3081f0a",
   "metadata": {},
   "outputs": [],
   "source": [
    "contacts = [('rachel',8887771111), ('monica',9195675555), ('joey',3332229999)]"
   ]
  },
  {
   "cell_type": "code",
   "execution_count": 26,
   "id": "ccbb52be-1cb1-4a27-9f41-0e6006efe06b",
   "metadata": {},
   "outputs": [
    {
     "name": "stdout",
     "output_type": "stream",
     "text": [
      "3332229999\n"
     ]
    }
   ],
   "source": [
    "for contact in contacts:\n",
    "    if contact[0]=='joey':\n",
    "        print(contact[1])"
   ]
  },
  {
   "cell_type": "markdown",
   "id": "86d288d4-756d-4cac-83e2-99a3b6574804",
   "metadata": {},
   "source": [
    "If list is very long say 10000 elements and element you are looking for is at the end, you would have now done 10000 iterations in the loop which is not efficient. In terms of memory complexity this is O(n)\n",
    "\n",
    "**Refer to codebasics youtube channel for this video: https://www.youtube.com/watch?v=IR_S8BC8KI0 to get understanding on Big O notation for measuring complexity**\n",
    "\n",
    "There is a better data structure called dictionary that allows you to search for an element in Big O(1) (or constant time complexity). Now we will define a python dictionary"
   ]
  },
  {
   "cell_type": "code",
   "execution_count": 2,
   "id": "d2d60095-d0fb-4c04-a836-7afd0903e467",
   "metadata": {},
   "outputs": [],
   "source": [
    "d = {\n",
    "    'rachel' : 8887771111,\n",
    "    'monica' : 9195675555,\n",
    "    'joey' : 332229999\n",
    "}"
   ]
  },
  {
   "cell_type": "code",
   "execution_count": 3,
   "id": "12938b56-87ed-4fb8-8495-634e73e9efb2",
   "metadata": {},
   "outputs": [
    {
     "data": {
      "text/plain": [
       "{'rachel': 8887771111, 'monica': 9195675555, 'joey': 332229999}"
      ]
     },
     "execution_count": 3,
     "metadata": {},
     "output_type": "execute_result"
    }
   ],
   "source": [
    "d"
   ]
  },
  {
   "cell_type": "code",
   "execution_count": 4,
   "id": "808c33f3-c010-4cf2-a26b-fb49502154ac",
   "metadata": {},
   "outputs": [
    {
     "data": {
      "text/plain": [
       "332229999"
      ]
     },
     "execution_count": 4,
     "metadata": {},
     "output_type": "execute_result"
    }
   ],
   "source": [
    "# number of joey\n",
    "d['joey']"
   ]
  },
  {
   "cell_type": "code",
   "execution_count": 7,
   "id": "b8a0822e-1311-4bf6-a82b-6f16f6be06d3",
   "metadata": {},
   "outputs": [],
   "source": [
    "x = d.get('satya')"
   ]
  },
  {
   "cell_type": "code",
   "execution_count": 8,
   "id": "e1600a3e-644d-4e79-933d-2fe9ae9186af",
   "metadata": {},
   "outputs": [
    {
     "name": "stdout",
     "output_type": "stream",
     "text": [
      "None\n"
     ]
    }
   ],
   "source": [
    "print(x)"
   ]
  },
  {
   "cell_type": "code",
   "execution_count": 9,
   "id": "4afc1a6e-b31c-4c6b-986e-2c73a3fb1244",
   "metadata": {},
   "outputs": [],
   "source": [
    "d['rachel'] = 11111111"
   ]
  },
  {
   "cell_type": "code",
   "execution_count": 10,
   "id": "ddd64dec-bcee-481a-b071-67e5f0178842",
   "metadata": {},
   "outputs": [
    {
     "data": {
      "text/plain": [
       "{'rachel': 11111111, 'monica': 9195675555, 'joey': 332229999}"
      ]
     },
     "execution_count": 10,
     "metadata": {},
     "output_type": "execute_result"
    }
   ],
   "source": [
    "d"
   ]
  },
  {
   "cell_type": "code",
   "execution_count": 11,
   "id": "0c616203-70ec-4f57-8899-7dd89fb77cc2",
   "metadata": {},
   "outputs": [],
   "source": [
    "d['satya'] = 5876598455"
   ]
  },
  {
   "cell_type": "code",
   "execution_count": 12,
   "id": "b9e0789d-00b2-4cf6-966f-d647aa9969a5",
   "metadata": {},
   "outputs": [
    {
     "data": {
      "text/plain": [
       "{'rachel': 11111111,\n",
       " 'monica': 9195675555,\n",
       " 'joey': 332229999,\n",
       " 'satya': 5876598455}"
      ]
     },
     "execution_count": 12,
     "metadata": {},
     "output_type": "execute_result"
    }
   ],
   "source": [
    "d"
   ]
  },
  {
   "cell_type": "code",
   "execution_count": 13,
   "id": "1e7d7669-facb-4fc2-8677-b6852fec8cc3",
   "metadata": {},
   "outputs": [
    {
     "data": {
      "text/plain": [
       "{'rachel': 11111111, 'monica': 9195675555, 'joey': 332229999}"
      ]
     },
     "execution_count": 13,
     "metadata": {},
     "output_type": "execute_result"
    }
   ],
   "source": [
    "del d['satya']\n",
    "d"
   ]
  },
  {
   "cell_type": "code",
   "execution_count": 14,
   "id": "1afc1b6f-215a-4a69-8960-c24566b6d08b",
   "metadata": {},
   "outputs": [
    {
     "data": {
      "text/plain": [
       "False"
      ]
     },
     "execution_count": 14,
     "metadata": {},
     "output_type": "execute_result"
    }
   ],
   "source": [
    "'abdul' in d"
   ]
  },
  {
   "cell_type": "code",
   "execution_count": 15,
   "id": "ca8c593b-5d7d-4c43-a5b9-d6cd41b8b352",
   "metadata": {},
   "outputs": [
    {
     "data": {
      "text/plain": [
       "True"
      ]
     },
     "execution_count": 15,
     "metadata": {},
     "output_type": "execute_result"
    }
   ],
   "source": [
    "'joey' in d"
   ]
  },
  {
   "cell_type": "markdown",
   "id": "4d30b796-6119-43ff-9731-a086823697f6",
   "metadata": {},
   "source": [
    "**Dictionary can store any data type as its value. Below the value in the dictionary is another dictionary**"
   ]
  },
  {
   "cell_type": "code",
   "execution_count": 16,
   "id": "9f0706aa-c2ad-470f-9ac1-3d925ee9c395",
   "metadata": {},
   "outputs": [],
   "source": [
    "contact_dict = {\n",
    "    'rachel' : { 'phone': 1234, 'address': '1 blue st' },\n",
    "    'joey' : { 'phone': 999, 'address': '7 newton blvd' }\n",
    "}"
   ]
  },
  {
   "cell_type": "code",
   "execution_count": 18,
   "id": "c7ebee1a-a41d-436a-9ab7-57613456d684",
   "metadata": {},
   "outputs": [
    {
     "data": {
      "text/plain": [
       "{'phone': 1234, 'address': '1 blue st'}"
      ]
     },
     "execution_count": 18,
     "metadata": {},
     "output_type": "execute_result"
    }
   ],
   "source": [
    "contact_dict['rachel']"
   ]
  },
  {
   "cell_type": "code",
   "execution_count": 19,
   "id": "1e5736bd-83d9-4611-a5af-1c076e784434",
   "metadata": {},
   "outputs": [
    {
     "data": {
      "text/plain": [
       "1234"
      ]
     },
     "execution_count": 19,
     "metadata": {},
     "output_type": "execute_result"
    }
   ],
   "source": [
    "contact_dict['rachel']['phone']"
   ]
  },
  {
   "cell_type": "code",
   "execution_count": 21,
   "id": "9c1f8044-ab42-49ed-b620-8c16fd04f4d0",
   "metadata": {},
   "outputs": [
    {
     "name": "stdout",
     "output_type": "stream",
     "text": [
      "rachel 11111111\n",
      "monica 9195675555\n",
      "joey 332229999\n"
     ]
    }
   ],
   "source": [
    "# iterate throught evry element\n",
    "for name in d:\n",
    "    print(name, d[name])"
   ]
  },
  {
   "cell_type": "code",
   "execution_count": 22,
   "id": "81a5107c-d722-4238-a809-5e4e403a273a",
   "metadata": {},
   "outputs": [
    {
     "name": "stdout",
     "output_type": "stream",
     "text": [
      "rachel 11111111\n",
      "monica 9195675555\n",
      "joey 332229999\n"
     ]
    }
   ],
   "source": [
    "for name, number in d.items():\n",
    "    print(name, number)"
   ]
  },
  {
   "cell_type": "code",
   "execution_count": 23,
   "id": "e26c93f3-5b5c-4474-96f4-838ace6c057e",
   "metadata": {},
   "outputs": [
    {
     "data": {
      "text/plain": [
       "dict_items([('rachel', 11111111), ('monica', 9195675555), ('joey', 332229999)])"
      ]
     },
     "execution_count": 23,
     "metadata": {},
     "output_type": "execute_result"
    }
   ],
   "source": [
    "d.items()"
   ]
  },
  {
   "cell_type": "code",
   "execution_count": 24,
   "id": "dd97c687-4e07-4527-ba22-0e4964e4ca7d",
   "metadata": {},
   "outputs": [
    {
     "data": {
      "text/plain": [
       "['__class__',\n",
       " '__class_getitem__',\n",
       " '__contains__',\n",
       " '__delattr__',\n",
       " '__delitem__',\n",
       " '__dir__',\n",
       " '__doc__',\n",
       " '__eq__',\n",
       " '__format__',\n",
       " '__ge__',\n",
       " '__getattribute__',\n",
       " '__getitem__',\n",
       " '__getstate__',\n",
       " '__gt__',\n",
       " '__hash__',\n",
       " '__init__',\n",
       " '__init_subclass__',\n",
       " '__ior__',\n",
       " '__iter__',\n",
       " '__le__',\n",
       " '__len__',\n",
       " '__lt__',\n",
       " '__ne__',\n",
       " '__new__',\n",
       " '__or__',\n",
       " '__reduce__',\n",
       " '__reduce_ex__',\n",
       " '__repr__',\n",
       " '__reversed__',\n",
       " '__ror__',\n",
       " '__setattr__',\n",
       " '__setitem__',\n",
       " '__sizeof__',\n",
       " '__str__',\n",
       " '__subclasshook__',\n",
       " 'clear',\n",
       " 'copy',\n",
       " 'fromkeys',\n",
       " 'get',\n",
       " 'items',\n",
       " 'keys',\n",
       " 'pop',\n",
       " 'popitem',\n",
       " 'setdefault',\n",
       " 'update',\n",
       " 'values']"
      ]
     },
     "execution_count": 24,
     "metadata": {},
     "output_type": "execute_result"
    }
   ],
   "source": [
    "dir(d)"
   ]
  },
  {
   "cell_type": "code",
   "execution_count": 25,
   "id": "a3414ac1-24cc-4008-826e-74e5ccd0257d",
   "metadata": {},
   "outputs": [
    {
     "data": {
      "text/plain": [
       "dict_keys(['rachel', 'monica', 'joey'])"
      ]
     },
     "execution_count": 25,
     "metadata": {},
     "output_type": "execute_result"
    }
   ],
   "source": [
    "d.keys()"
   ]
  },
  {
   "cell_type": "code",
   "execution_count": 26,
   "id": "8239e1d5-7cbb-4edb-b22d-cf1524d39657",
   "metadata": {},
   "outputs": [
    {
     "data": {
      "text/plain": [
       "dict_values([11111111, 9195675555, 332229999])"
      ]
     },
     "execution_count": 26,
     "metadata": {},
     "output_type": "execute_result"
    }
   ],
   "source": [
    "d.values()"
   ]
  },
  {
   "cell_type": "code",
   "execution_count": null,
   "id": "cd0df02f-01f4-4bf2-8444-b3734b4415f6",
   "metadata": {},
   "outputs": [],
   "source": []
  }
 ],
 "metadata": {
  "kernelspec": {
   "display_name": "Python 3 (ipykernel)",
   "language": "python",
   "name": "python3"
  },
  "language_info": {
   "codemirror_mode": {
    "name": "ipython",
    "version": 3
   },
   "file_extension": ".py",
   "mimetype": "text/x-python",
   "name": "python",
   "nbconvert_exporter": "python",
   "pygments_lexer": "ipython3",
   "version": "3.11.4"
  }
 },
 "nbformat": 4,
 "nbformat_minor": 5
}
