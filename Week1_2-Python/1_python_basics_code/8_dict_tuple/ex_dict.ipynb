{
 "cells": [
  {
   "cell_type": "code",
   "execution_count": 2,
   "id": "43c3bcdb-18d6-4e3a-b8f3-256090304184",
   "metadata": {},
   "outputs": [],
   "source": [
    "# Create a list of your friends' names and now create a list of tuples. \n",
    "# The tuple should contain the friend’s name and the length of the name. \n",
    "# For Example: if someone’s name is Aditya, the tuple would be: (‘Aditya’, 6)\n"
   ]
  },
  {
   "cell_type": "code",
   "execution_count": 13,
   "id": "0222d595-e5b3-4fa8-a639-aa7bca928ac9",
   "metadata": {},
   "outputs": [
    {
     "name": "stdout",
     "output_type": "stream",
     "text": [
      "[('Joey', 4), ('Louis', 5), ('Aditya', 6)]\n"
     ]
    }
   ],
   "source": [
    "friends = ['Joey', 'Louis', 'Aditya']\n",
    "\n",
    "new_list = []\n",
    "for name in friends:\n",
    "    friends_tuple = (name, len(name))\n",
    "    new_list.append(friends_tuple)\n",
    "\n",
    "print(new_list)\n",
    "    "
   ]
  },
  {
   "cell_type": "code",
   "execution_count": 14,
   "id": "b95ec6ea-eec4-45bd-b3cc-5ddc6e32d2f4",
   "metadata": {},
   "outputs": [],
   "source": [
    "########################"
   ]
  },
  {
   "cell_type": "code",
   "execution_count": 15,
   "id": "52f76c4a-f506-4782-aa78-6d03c983d457",
   "metadata": {},
   "outputs": [],
   "source": [
    "my_expenses = dict()\n",
    "wife_expenses = dict()"
   ]
  },
  {
   "cell_type": "code",
   "execution_count": 16,
   "id": "dc5f6935-39d7-4fc0-a27a-3828db7ceeb4",
   "metadata": {},
   "outputs": [],
   "source": [
    "# adding data to the dictionaries\n",
    "my_expenses['Clothes'] = 100\n",
    "my_expenses['Shoes'] = 1000\n",
    "my_expenses['Watch'] = 900\n",
    "my_expenses['Mobile Recharge'] = 699\n",
    "my_expenses['Petrol'] = 1980"
   ]
  },
  {
   "cell_type": "code",
   "execution_count": 17,
   "id": "e71674cd-d42e-418d-bd25-0fec701e8461",
   "metadata": {},
   "outputs": [],
   "source": [
    "wife_expenses.update({\n",
    "    \"Mobile Recharge\" : 799,\n",
    "    \"DTH recharge\" : 999,\n",
    "    \"Clothes\" : 2310,\n",
    "    \"Makeup\" : 3670,\n",
    "    \"Shoes\" : 999\n",
    "})"
   ]
  },
  {
   "cell_type": "code",
   "execution_count": 18,
   "id": "de20afe6-2ef0-4bc5-bfdd-f63f631f00d6",
   "metadata": {},
   "outputs": [
    {
     "data": {
      "text/plain": [
       "{'Clothes': 100,\n",
       " 'Shoes': 1000,\n",
       " 'Watch': 900,\n",
       " 'Mobile Recharge': 699,\n",
       " 'Petrol': 1980}"
      ]
     },
     "execution_count": 18,
     "metadata": {},
     "output_type": "execute_result"
    }
   ],
   "source": [
    "my_expenses"
   ]
  },
  {
   "cell_type": "code",
   "execution_count": 19,
   "id": "361e7214-4e65-4e7d-8f4e-a08c318fe131",
   "metadata": {},
   "outputs": [
    {
     "data": {
      "text/plain": [
       "{'Clothes': 100,\n",
       " 'Shoes': 1000,\n",
       " 'Watch': 900,\n",
       " 'Mobile Recharge': 699,\n",
       " 'Petrol': 1980,\n",
       " 'total': 4679}"
      ]
     },
     "execution_count": 19,
     "metadata": {},
     "output_type": "execute_result"
    }
   ],
   "source": [
    "total = 0\n",
    "for key in my_expenses:\n",
    "    total += my_expenses[key]\n",
    "\n",
    "my_expenses['total'] = total\n",
    "\n",
    "my_expenses"
   ]
  },
  {
   "cell_type": "code",
   "execution_count": 20,
   "id": "d076bddc-c702-4400-9a51-e4beba206bf9",
   "metadata": {},
   "outputs": [
    {
     "data": {
      "text/plain": [
       "{'Mobile Recharge': 799,\n",
       " 'DTH recharge': 999,\n",
       " 'Clothes': 2310,\n",
       " 'Makeup': 3670,\n",
       " 'Shoes': 999,\n",
       " 'total': 8777}"
      ]
     },
     "execution_count": 20,
     "metadata": {},
     "output_type": "execute_result"
    }
   ],
   "source": [
    "total = 0\n",
    "for key in wife_expenses:\n",
    "    total += wife_expenses[key]\n",
    "\n",
    "wife_expenses['total'] = total\n",
    "\n",
    "wife_expenses"
   ]
  },
  {
   "cell_type": "code",
   "execution_count": 21,
   "id": "0a43238e-05c0-4e61-a4c1-47e8888f6736",
   "metadata": {},
   "outputs": [
    {
     "name": "stdout",
     "output_type": "stream",
     "text": [
      "13456\n"
     ]
    }
   ],
   "source": [
    "total_gen = my_expenses['total'] + wife_expenses['total']\n",
    "print(total_gen)"
   ]
  },
  {
   "cell_type": "code",
   "execution_count": 22,
   "id": "31e7a1d6-c7a4-4dba-9a23-b121634d7b6c",
   "metadata": {},
   "outputs": [
    {
     "name": "stdout",
     "output_type": "stream",
     "text": [
      "You wife spend more: the difference is 4098\n"
     ]
    }
   ],
   "source": [
    "if my_expenses['total'] > wife_expenses['total']:\n",
    "    diff = my_expenses['total'] - wife_expenses['total']\n",
    "    print(f'you spend more: the difference is {diff}')\n",
    "else:\n",
    "    diff = wife_expenses['total'] - my_expenses['total'] \n",
    "    print(f'You wife spend more: the difference is {diff}')"
   ]
  },
  {
   "cell_type": "code",
   "execution_count": 24,
   "id": "4cb0f4b9-3600-4d09-870f-d7b197bf5305",
   "metadata": {},
   "outputs": [],
   "source": [
    "# c. finding expensive thing\n",
    "# If we can sort the dictionary in increasing order or decreasing order\n",
    "# we can find it easily\n",
    "\n",
    "def sort_the_dict(dictionary):\n",
    "    # because we need to sord the dictionary according to the values\n",
    "    sorted_dict = sorted(dictionary.items(), key=lambda kv:kv[1])\n",
    "    \n",
    "    return sorted_dict       "
   ]
  },
  {
   "cell_type": "code",
   "execution_count": 25,
   "id": "9213335d-cff7-43a2-8a4f-e71d642ad9b2",
   "metadata": {},
   "outputs": [
    {
     "data": {
      "text/plain": [
       "[('Clothes', 100),\n",
       " ('Mobile Recharge', 699),\n",
       " ('Watch', 900),\n",
       " ('Shoes', 1000),\n",
       " ('Petrol', 1980),\n",
       " ('total', 4679)]"
      ]
     },
     "execution_count": 25,
     "metadata": {},
     "output_type": "execute_result"
    }
   ],
   "source": [
    "sort_the_dict(my_expenses)"
   ]
  },
  {
   "cell_type": "code",
   "execution_count": 26,
   "id": "4bb19b7c-9ea1-4c6a-93b5-3d28312a74e2",
   "metadata": {},
   "outputs": [
    {
     "data": {
      "text/plain": [
       "[('Mobile Recharge', 799),\n",
       " ('DTH recharge', 999),\n",
       " ('Shoes', 999),\n",
       " ('Clothes', 2310),\n",
       " ('Makeup', 3670),\n",
       " ('total', 8777)]"
      ]
     },
     "execution_count": 26,
     "metadata": {},
     "output_type": "execute_result"
    }
   ],
   "source": [
    "sort_the_dict(wife_expenses)"
   ]
  },
  {
   "cell_type": "code",
   "execution_count": 27,
   "id": "6d118530-cc5b-47eb-87f2-b2d326b84da5",
   "metadata": {},
   "outputs": [
    {
     "name": "stdout",
     "output_type": "stream",
     "text": [
      "You spent more on: \n"
     ]
    },
    {
     "data": {
      "text/plain": [
       "('Petrol', 1980)"
      ]
     },
     "execution_count": 27,
     "metadata": {},
     "output_type": "execute_result"
    }
   ],
   "source": [
    "print(\"You spent more on: \")\n",
    "sort_the_dict(my_expenses)[-2]"
   ]
  },
  {
   "cell_type": "code",
   "execution_count": 28,
   "id": "5813b4ae-a1fa-4caa-b1ac-64d408a98df0",
   "metadata": {},
   "outputs": [
    {
     "name": "stdout",
     "output_type": "stream",
     "text": [
      "Your wife spent more on: \n"
     ]
    },
    {
     "data": {
      "text/plain": [
       "('Makeup', 3670)"
      ]
     },
     "execution_count": 28,
     "metadata": {},
     "output_type": "execute_result"
    }
   ],
   "source": [
    "print(\"Your wife spent more on: \")\n",
    "sort_the_dict(wife_expenses)[-2]"
   ]
  },
  {
   "cell_type": "code",
   "execution_count": null,
   "id": "f211249d-ad49-4dd5-a3a1-bc0b9326310a",
   "metadata": {},
   "outputs": [],
   "source": []
  }
 ],
 "metadata": {
  "kernelspec": {
   "display_name": "Python 3 (ipykernel)",
   "language": "python",
   "name": "python3"
  },
  "language_info": {
   "codemirror_mode": {
    "name": "ipython",
    "version": 3
   },
   "file_extension": ".py",
   "mimetype": "text/x-python",
   "name": "python",
   "nbconvert_exporter": "python",
   "pygments_lexer": "ipython3",
   "version": "3.11.4"
  }
 },
 "nbformat": 4,
 "nbformat_minor": 5
}
