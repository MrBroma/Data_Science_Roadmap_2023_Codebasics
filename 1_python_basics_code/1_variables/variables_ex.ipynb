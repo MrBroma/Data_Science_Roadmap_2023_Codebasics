{
 "cells": [
  {
   "cell_type": "markdown",
   "id": "e1342327-7f34-4b20-8fc6-6e1f006a924e",
   "metadata": {},
   "source": [
    "### 1. Create a variable named pi and store the value 22/7 in it. Now check the data type of this variable.\n"
   ]
  },
  {
   "cell_type": "code",
   "execution_count": 3,
   "id": "ce56a459-7e77-417c-aec4-88473d125473",
   "metadata": {},
   "outputs": [
    {
     "name": "stdout",
     "output_type": "stream",
     "text": [
      "3.142857142857143\n"
     ]
    }
   ],
   "source": [
    "# Creation of variable Pi\n",
    "pi = 22 / 7\n",
    "print(pi)"
   ]
  },
  {
   "cell_type": "markdown",
   "id": "ecb14423-1db2-403d-964c-0808d2b528ab",
   "metadata": {},
   "source": [
    "### 2. Create a variable called for and assign it a value 4. See what happens and find out the reason behind the behavior that you see**.**\n"
   ]
  },
  {
   "cell_type": "code",
   "execution_count": 4,
   "id": "9221efdd-a0cd-4abf-9016-6bfeaf076af7",
   "metadata": {},
   "outputs": [
    {
     "ename": "SyntaxError",
     "evalue": "invalid syntax (1227568896.py, line 1)",
     "output_type": "error",
     "traceback": [
      "\u001b[1;36m  Cell \u001b[1;32mIn[4], line 1\u001b[1;36m\u001b[0m\n\u001b[1;33m    for = 4\u001b[0m\n\u001b[1;37m        ^\u001b[0m\n\u001b[1;31mSyntaxError\u001b[0m\u001b[1;31m:\u001b[0m invalid syntax\n"
     ]
    }
   ],
   "source": [
    "for = 4\n",
    "print(for)"
   ]
  },
  {
   "cell_type": "markdown",
   "id": "af748de4-eeee-4033-9416-d189ce0a2922",
   "metadata": {},
   "source": [
    "### 3. Store the principal amount, rate of interest, and time in different variables and then calculate the Simple Interest for 3 years**.**\n"
   ]
  },
  {
   "cell_type": "code",
   "execution_count": 8,
   "id": "a0c791ae-a5f2-49b7-bb5f-112a911cfea2",
   "metadata": {},
   "outputs": [
    {
     "data": {
      "text/plain": [
       "75.0"
      ]
     },
     "execution_count": 8,
     "metadata": {},
     "output_type": "execute_result"
    }
   ],
   "source": [
    "# Principal amount (P), Rate 15% = 0.15 (R) and Time (T) Simple Interest (SInt)\n",
    "P = 100\n",
    "R = 0.15\n",
    "T = 5\n",
    "Sint = P * R * T\n",
    "Sint"
   ]
  },
  {
   "cell_type": "code",
   "execution_count": 9,
   "id": "5338c048-dc8c-4f49-9ca7-e42e0e504618",
   "metadata": {},
   "outputs": [],
   "source": [
    "Total = P + Sint"
   ]
  },
  {
   "cell_type": "code",
   "execution_count": 10,
   "id": "d30f21e4-f651-46c0-b1f5-57b9f5679a81",
   "metadata": {},
   "outputs": [
    {
     "data": {
      "text/plain": [
       "175.0"
      ]
     },
     "execution_count": 10,
     "metadata": {},
     "output_type": "execute_result"
    }
   ],
   "source": [
    "Total"
   ]
  },
  {
   "cell_type": "code",
   "execution_count": null,
   "id": "2856a522-f551-4463-b7b4-580bd569524c",
   "metadata": {},
   "outputs": [],
   "source": []
  }
 ],
 "metadata": {
  "kernelspec": {
   "display_name": "Python 3 (ipykernel)",
   "language": "python",
   "name": "python3"
  },
  "language_info": {
   "codemirror_mode": {
    "name": "ipython",
    "version": 3
   },
   "file_extension": ".py",
   "mimetype": "text/x-python",
   "name": "python",
   "nbconvert_exporter": "python",
   "pygments_lexer": "ipython3",
   "version": "3.11.4"
  }
 },
 "nbformat": 4,
 "nbformat_minor": 5
}
