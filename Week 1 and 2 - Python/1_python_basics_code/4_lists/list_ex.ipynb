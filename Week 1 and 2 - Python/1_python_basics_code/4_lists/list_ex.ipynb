{
 "cells": [
  {
   "cell_type": "markdown",
   "id": "2b1df630-461b-4eed-8f6e-f4019de83271",
   "metadata": {},
   "source": [
    "### You are a Marvel fan and created a list of superheroes."
   ]
  },
  {
   "cell_type": "code",
   "execution_count": 21,
   "id": "57d2918b-211a-47a2-ada8-d4abdbeb0cc8",
   "metadata": {},
   "outputs": [],
   "source": [
    "avengers = [\"Iron Man\", \"Captain America\", \"Black Widow\", \"Hulk\", \"Thor\", \"Hawkeye\"]"
   ]
  },
  {
   "cell_type": "markdown",
   "id": "d03740b4-1016-491c-b2ba-7553ba7eb9cb",
   "metadata": {},
   "source": [
    "### 1.Calculate how many members are in the Avengers team?\n"
   ]
  },
  {
   "cell_type": "code",
   "execution_count": 22,
   "id": "53d2d403-6440-4cb0-aee1-7c4e57a1ad2e",
   "metadata": {},
   "outputs": [
    {
     "data": {
      "text/plain": [
       "6"
      ]
     },
     "execution_count": 22,
     "metadata": {},
     "output_type": "execute_result"
    }
   ],
   "source": [
    "len(avengers)"
   ]
  },
  {
   "cell_type": "code",
   "execution_count": 23,
   "id": "d61b5361-36b1-43d5-b818-67052f4985ba",
   "metadata": {},
   "outputs": [
    {
     "name": "stdout",
     "output_type": "stream",
     "text": [
      "The list of avengers is composed of 6 members\n"
     ]
    }
   ],
   "source": [
    "print(f\"The list of avengers is composed of {len(avengers)} members\")"
   ]
  },
  {
   "cell_type": "markdown",
   "id": "a49201c0-d430-4744-81ec-48726d936d43",
   "metadata": {},
   "source": [
    "### 2. Iron Man made Spider-Man a new member of the Avengers, add him to your list.\n"
   ]
  },
  {
   "cell_type": "code",
   "execution_count": 24,
   "id": "1bcf9daf-1f3c-42c5-8eb9-1b1ba9610786",
   "metadata": {},
   "outputs": [
    {
     "data": {
      "text/plain": [
       "['Iron Man',\n",
       " 'Captain America',\n",
       " 'Black Widow',\n",
       " 'Hulk',\n",
       " 'Thor',\n",
       " 'Hawkeye',\n",
       " 'Spider-Man']"
      ]
     },
     "execution_count": 24,
     "metadata": {},
     "output_type": "execute_result"
    }
   ],
   "source": [
    "avengers.append(\"Spider-Man\")\n",
    "avengers"
   ]
  },
  {
   "cell_type": "markdown",
   "id": "ad10af1e-c45a-4a8f-b491-f9308c6c9856",
   "metadata": {},
   "source": [
    "### 3. Captain America is the leader of the Avengers, you need to add him before Iron Man, so remove him from the list and add him before Iron Man.\n"
   ]
  },
  {
   "cell_type": "code",
   "execution_count": 25,
   "id": "8bff62a2-5dc0-4b96-b228-7678053f2991",
   "metadata": {},
   "outputs": [
    {
     "data": {
      "text/plain": [
       "['Iron Man',\n",
       " 'Captain America',\n",
       " 'Black Widow',\n",
       " 'Hulk',\n",
       " 'Thor',\n",
       " 'Hawkeye',\n",
       " 'Spider-Man']"
      ]
     },
     "execution_count": 25,
     "metadata": {},
     "output_type": "execute_result"
    }
   ],
   "source": [
    "avengers.remove(\"Iron Man\")\n",
    "avengers.insert(0, \"Iron Man\")\n",
    "avengers"
   ]
  },
  {
   "cell_type": "markdown",
   "id": "2196a083-c2b1-4cc5-a3ca-d68dde0bccbd",
   "metadata": {},
   "source": [
    "### 4. You don’t like Thor and Hulk together because they get angry easily and fight with each other. So you have to separate them from each other. To separate them, either move “Black Widow” or “Hawkeye” in between them.\n"
   ]
  },
  {
   "cell_type": "code",
   "execution_count": 26,
   "id": "ac001afe-c512-42e6-b3ce-c4819fad676a",
   "metadata": {},
   "outputs": [
    {
     "data": {
      "text/plain": [
       "['Iron Man',\n",
       " 'Captain America',\n",
       " 'Black Widow',\n",
       " 'Hulk',\n",
       " 'Hawkeye',\n",
       " 'Thor',\n",
       " 'Spider-Man']"
      ]
     },
     "execution_count": 26,
     "metadata": {},
     "output_type": "execute_result"
    }
   ],
   "source": [
    "avengers.remove(\"Hawkeye\")\n",
    "avengers.insert(4, \"Hawkeye\")\n",
    "avengers"
   ]
  },
  {
   "cell_type": "markdown",
   "id": "85bf24f3-7690-458c-be53-d341da494b34",
   "metadata": {},
   "source": [
    "### 5. After Avengers: End Game the original six avengers are retired, now you need to remove them from your list and add new superheroes like Doctor Strange, Vision, Wanda, Kate Bishop, and Ant-Man.\n"
   ]
  },
  {
   "cell_type": "code",
   "execution_count": 36,
   "id": "9822b7f4-5b60-460d-8314-b4b2505b65d5",
   "metadata": {},
   "outputs": [],
   "source": [
    "avengers.clear()"
   ]
  },
  {
   "cell_type": "code",
   "execution_count": 38,
   "id": "702c8694-83b1-4e85-957d-fa9fae3112a8",
   "metadata": {},
   "outputs": [],
   "source": [
    "avengers = ['Doctor Strange', 'Vision', 'Wanda', 'Kate Bishop', 'Ant-Man']"
   ]
  },
  {
   "cell_type": "code",
   "execution_count": 39,
   "id": "5128c88d-005e-4f20-b2c2-ec97c7c65ae7",
   "metadata": {},
   "outputs": [
    {
     "data": {
      "text/plain": [
       "['Doctor Strange', 'Vision', 'Wanda', 'Kate Bishop', 'Ant-Man']"
      ]
     },
     "execution_count": 39,
     "metadata": {},
     "output_type": "execute_result"
    }
   ],
   "source": [
    "avengers"
   ]
  },
  {
   "cell_type": "code",
   "execution_count": null,
   "id": "bdaa4121-2790-4d37-9f49-e8bea77261a2",
   "metadata": {},
   "outputs": [],
   "source": []
  },
  {
   "cell_type": "markdown",
   "id": "dedf92be-289e-4e68-b24b-6374b83e4d0e",
   "metadata": {},
   "source": [
    "### 6. As “Captain America” is also retired and now currently, no one is the leader, so sort the list in alphabetical order. Whoever will come at the 0th index will become the Leader. (BONUS: can you guess who will become the leader)\n"
   ]
  },
  {
   "cell_type": "code",
   "execution_count": 40,
   "id": "e71bb22b-e857-4e1b-a893-5d6fad05cdcf",
   "metadata": {},
   "outputs": [
    {
     "data": {
      "text/plain": [
       "['Ant-Man', 'Doctor Strange', 'Kate Bishop', 'Vision', 'Wanda']"
      ]
     },
     "execution_count": 40,
     "metadata": {},
     "output_type": "execute_result"
    }
   ],
   "source": [
    "avengers.sort()\n",
    "avengers"
   ]
  },
  {
   "cell_type": "code",
   "execution_count": null,
   "id": "3f042475-b241-425a-9ed1-cc9b27faa52a",
   "metadata": {},
   "outputs": [],
   "source": []
  }
 ],
 "metadata": {
  "kernelspec": {
   "display_name": "Python 3 (ipykernel)",
   "language": "python",
   "name": "python3"
  },
  "language_info": {
   "codemirror_mode": {
    "name": "ipython",
    "version": 3
   },
   "file_extension": ".py",
   "mimetype": "text/x-python",
   "name": "python",
   "nbconvert_exporter": "python",
   "pygments_lexer": "ipython3",
   "version": "3.11.4"
  }
 },
 "nbformat": 4,
 "nbformat_minor": 5
}
