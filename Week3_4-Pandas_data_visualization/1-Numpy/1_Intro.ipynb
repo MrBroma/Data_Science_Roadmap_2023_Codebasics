{
 "cells": [
  {
   "cell_type": "markdown",
   "id": "e5aa9810-2dce-4a6e-9c64-7b1bcb30b472",
   "metadata": {},
   "source": [
    "Numpy's most useful feature is n dimentional array object: ndarray"
   ]
  },
  {
   "cell_type": "code",
   "execution_count": 1,
   "id": "6fbf1ca0-1ffb-4609-bc1f-37709279d94b",
   "metadata": {},
   "outputs": [],
   "source": [
    "import numpy as np"
   ]
  },
  {
   "cell_type": "code",
   "execution_count": 3,
   "id": "34c9febf-2cfa-4536-9dfb-68b7becc4352",
   "metadata": {},
   "outputs": [],
   "source": [
    "a = np.array([1, 2, 3])"
   ]
  },
  {
   "cell_type": "code",
   "execution_count": 4,
   "id": "59dfc76f-e1a5-41d5-a99f-5681ac64ca38",
   "metadata": {},
   "outputs": [
    {
     "data": {
      "text/plain": [
       "array([1, 2, 3])"
      ]
     },
     "execution_count": 4,
     "metadata": {},
     "output_type": "execute_result"
    }
   ],
   "source": [
    "a"
   ]
  },
  {
   "cell_type": "code",
   "execution_count": 5,
   "id": "0c9ec2b6-d6e0-4ed1-95f3-0166404102c7",
   "metadata": {},
   "outputs": [
    {
     "data": {
      "text/plain": [
       "1"
      ]
     },
     "execution_count": 5,
     "metadata": {},
     "output_type": "execute_result"
    }
   ],
   "source": [
    "a[0]"
   ]
  },
  {
   "cell_type": "code",
   "execution_count": 6,
   "id": "12cd42c6-8ca7-484b-8264-c5d5aab25f30",
   "metadata": {},
   "outputs": [
    {
     "data": {
      "text/plain": [
       "2"
      ]
     },
     "execution_count": 6,
     "metadata": {},
     "output_type": "execute_result"
    }
   ],
   "source": [
    "a[1]"
   ]
  },
  {
   "cell_type": "markdown",
   "id": "f4c72437-69f2-4299-a7f8-ef6f6ff5b052",
   "metadata": {},
   "source": [
    "## List vs ndarray"
   ]
  },
  {
   "cell_type": "code",
   "execution_count": 4,
   "id": "4745307a-e4f9-469a-aa9b-6afb8d5a31ff",
   "metadata": {},
   "outputs": [],
   "source": [
    "import numpy as np\n",
    "import time\n",
    "import sys"
   ]
  },
  {
   "cell_type": "code",
   "execution_count": 5,
   "id": "7decc05c-9e04-4fc6-9a3c-e8d2ae003db2",
   "metadata": {},
   "outputs": [
    {
     "name": "stdout",
     "output_type": "stream",
     "text": [
      "28000\n"
     ]
    }
   ],
   "source": [
    "l = range(1000)\n",
    "print(sys.getsizeof(5) * len(l))"
   ]
  },
  {
   "cell_type": "code",
   "execution_count": 6,
   "id": "bd610bfa-5780-40b7-8ecb-8c41bec151a5",
   "metadata": {},
   "outputs": [
    {
     "name": "stdout",
     "output_type": "stream",
     "text": [
      "8000\n"
     ]
    }
   ],
   "source": [
    "array = np.arange(1000)\n",
    "print(array.size*array.itemsize)"
   ]
  },
  {
   "cell_type": "code",
   "execution_count": 37,
   "id": "260f2bb2-d8d3-44a0-9edf-7ab81c650ea2",
   "metadata": {},
   "outputs": [],
   "source": [
    "SIZE = 10000000"
   ]
  },
  {
   "cell_type": "code",
   "execution_count": 38,
   "id": "5a1904f5-38c4-44cc-9156-490ce037f865",
   "metadata": {},
   "outputs": [],
   "source": [
    "l1 = range(SIZE)\n",
    "l2 = range(SIZE)\n",
    "\n",
    "a1 = np.arange(SIZE)\n",
    "a2 = np.arange(SIZE)"
   ]
  },
  {
   "cell_type": "code",
   "execution_count": 39,
   "id": "b6965772-2471-44bd-a2da-5c72dfade7a8",
   "metadata": {},
   "outputs": [
    {
     "name": "stdout",
     "output_type": "stream",
     "text": [
      "python list took:  610.7254028320312\n",
      "numpy took:  106.29796981811523\n"
     ]
    }
   ],
   "source": [
    "# python list\n",
    "start = time.time()\n",
    "result = [(x*y) for x, y in zip(l1, l2)]\n",
    "print(\"python list took: \", (time.time() - start) * 1000)\n",
    "\n",
    "# python array\n",
    "start = time.time()\n",
    "result = a1 + a2\n",
    "print(\"numpy took: \", (time.time() - start) * 1000)"
   ]
  },
  {
   "cell_type": "code",
   "execution_count": 40,
   "id": "d7c9fe95-d902-4c18-80a4-e0cbce2f7ee6",
   "metadata": {},
   "outputs": [
    {
     "data": {
      "text/plain": [
       "array([5, 7, 9])"
      ]
     },
     "execution_count": 40,
     "metadata": {},
     "output_type": "execute_result"
    }
   ],
   "source": [
    "a1 = np.array([1, 2, 3])\n",
    "a2 = np.array([4, 5, 6])\n",
    "a1 + a2"
   ]
  },
  {
   "cell_type": "code",
   "execution_count": 41,
   "id": "3253685e-c8ad-4079-b8b4-54fc5116a883",
   "metadata": {},
   "outputs": [
    {
     "data": {
      "text/plain": [
       "array([3, 3, 3])"
      ]
     },
     "execution_count": 41,
     "metadata": {},
     "output_type": "execute_result"
    }
   ],
   "source": [
    "a2 - a1"
   ]
  },
  {
   "cell_type": "code",
   "execution_count": 42,
   "id": "b76097ed-fac6-4d75-93c0-997af14ec486",
   "metadata": {},
   "outputs": [
    {
     "data": {
      "text/plain": [
       "array([0.25, 0.4 , 0.5 ])"
      ]
     },
     "execution_count": 42,
     "metadata": {},
     "output_type": "execute_result"
    }
   ],
   "source": [
    "a1 / a2"
   ]
  },
  {
   "cell_type": "code",
   "execution_count": null,
   "id": "21b9fdcf-5867-4044-ac60-57f63667f353",
   "metadata": {},
   "outputs": [],
   "source": []
  }
 ],
 "metadata": {
  "kernelspec": {
   "display_name": "Python 3 (ipykernel)",
   "language": "python",
   "name": "python3"
  },
  "language_info": {
   "codemirror_mode": {
    "name": "ipython",
    "version": 3
   },
   "file_extension": ".py",
   "mimetype": "text/x-python",
   "name": "python",
   "nbconvert_exporter": "python",
   "pygments_lexer": "ipython3",
   "version": "3.11.4"
  }
 },
 "nbformat": 4,
 "nbformat_minor": 5
}
