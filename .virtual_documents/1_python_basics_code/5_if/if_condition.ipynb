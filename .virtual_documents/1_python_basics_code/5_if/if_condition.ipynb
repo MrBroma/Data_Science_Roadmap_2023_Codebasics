n=input("Enter a number")


n


n=int(n)
n


if n%2 == 0:
    print("Number is even")
else:
    print("Number is odd")





3==3


3==4


10>9


4<4


4==4


not 4==4


4<=4





n=8
if n > 10 and n%2==0:
    print("Yay")
else:
    print("Nope")





mexican = ["taco","enchilada","burrito"]
italian = ["pasta","ravioli","pizza"]
indian = ["biryani","samosa","curry"]


dish = input("Enter a dish name")


if dish in mexican:
    print(f"{dish} is mexican")
elif dish in italian:
    print(f"{dish} is italian")
elif dish in indian:
    print(f"{dish} is indian")
else:
    print(f"not sure which cuisine is {dish}")





n=1
message = "Number is even" if n%2==0 else "Number is odd"
message
