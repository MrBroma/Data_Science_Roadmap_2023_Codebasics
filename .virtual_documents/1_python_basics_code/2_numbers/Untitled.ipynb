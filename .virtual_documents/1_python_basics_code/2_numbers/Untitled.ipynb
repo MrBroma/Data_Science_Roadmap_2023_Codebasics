


format(145, 'o')





import math


# Area of the pond
r = 84
A = math.pi * r ** 2

print(round(A, 2))


# Volume in the pond
Vm2 = 1.4
vol_total = Vm2 * A

print(f'The total volume of the pond is: {vol_total}')





distance = 490
time = 7
timeSec = time * 60
speed = int(distance / timeSec)

print(f'The speed is in meters per sec: {speed}')



