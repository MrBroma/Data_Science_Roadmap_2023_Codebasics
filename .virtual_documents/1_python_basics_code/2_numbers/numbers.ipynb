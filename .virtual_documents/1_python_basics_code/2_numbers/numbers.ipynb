





base = 10
height = 7


area = (1/2) * base * height
area


type(area)





weight = 100.5
type(weight)


family_members = 5
type(family_members)





1+2


10/3


10//3





17%3


3*2


3**2


10+2*3


(10+2)*3


type(5)


type(5.2)


foo=2.3e4
foo


bar=2.3e-2
bar


food=120.34
rent=500.67
utilities=200.35


total_expense = food + rent + utilities
total_expense


round(total_expense)


food = "120.34"
rent = "500.67"

total = food + rent
total


type(total)


type(total_expense)





format(5, 'b')






