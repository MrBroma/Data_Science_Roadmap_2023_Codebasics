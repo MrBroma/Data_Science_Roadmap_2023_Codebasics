





lst = [int(x) for x in input().split()]


i = int(input("Enter Index: "))
print(lst[i])





try:
    i = int(input("Enter Index: "))
    print(lst[i])

except:
    print("Index is not valid")





employees = [
    {"id": 1, "first_name": "Karan ", "middle_name": "Rama ", "last_name": "Reddy"},
    {"id": 2, "first_name": "Alex ", "last_name": "Gorge"},
    {"id": 3, "first_name": "Alice ", "middle_name": "M ", "last_name": "Warner"},
]


for employee in employees:
    full_name = employee['first_name'] + employee['middle_name'] + employee['last_name']
    print(full_name)





for employee in employees:
    try:
        full_name = employee['first_name'] + employee['middle_name'] + employee['last_name']
    except KeyError:
        full_name = employee['first_name'] + employee['last_name']
    finally:
        print(full_name)











