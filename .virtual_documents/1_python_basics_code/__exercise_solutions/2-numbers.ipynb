





# format function to formate the number
format(145, 'o')








# circular pond
radius = 84






pond_area = 3.14 * radius ** 2






print(pond_area)





per_sqt_meter_water = 1.4


total_water = pond_area * per_sqt_meter_water


print(total_water)








street_lenght = 490
time = 7 * 60





time





speed = street_lenght / time





print(speed)





print(round(speed))









