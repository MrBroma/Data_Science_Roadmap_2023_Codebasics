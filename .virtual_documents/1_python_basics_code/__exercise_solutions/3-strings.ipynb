





help(str)








# creating a string
s = "Python is Easy."


s.endswith('.')





s2 = "I love Pandas"


s2.endswith('.')








fruits = "apple,banana"
vegatables = "potato & tomato"


# printing using f-sring
print(f"I eat {vegatables} vegatables and {fruits} fruits daily.")






string = "The Himalayas are one of the youngest mountain range on the planet."


string


#printing the himalayas
print(string[0:13])


# printing mountain range
print(string[-29:-15])


# slicing
print(string[0:13] + string[-15:])


# f string
print(f"{string[0:13]} {string[-14:]}")





string = "There are 9 planet in the solar system"


print(string)





# replacing the 9 with 8
string = string.replace('9', '8')


print(string)


# replacing planet with planets
string = string.replace('planet', 'planets')


print(string)





string = string.replace('9 planet', '8 planets')
print(string)









