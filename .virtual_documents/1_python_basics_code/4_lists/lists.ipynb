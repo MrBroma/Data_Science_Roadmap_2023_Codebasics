


item1 = "bread"
item2 = "pasta"
item3 = "cheese"
item4 = "veggies"


items = ["bread","pasta","fruits","veggies"]
print(items)





items[0]


items[1]


items[:2]


items[-1]


items[2] = 'fruits'
items





items.append('butter')
items


items = ["bread","pasta","fruits","veggies"]
items


items.insert(1,"butter")
items


items.remove("pasta")


items


items.remove("rice")


items





"bread" in items


"rice" in items





expenses = [30,1200,45,300]
expenses.sort()
expenses





food_items=["bread","pasta","fruits"]
bathroom_items=["shampoo","soap"]


all_items = food_items+bathroom_items
all_items


len(all_items)





dir(all_items)


all_items


all_items.reverse()
all_items





random = ["car", 4.5, True]
random
