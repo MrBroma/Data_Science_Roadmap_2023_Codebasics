item1 = "bread"
item2 = "pasta"
item3 = "cheese"
item4 = "veggies"


items = ["bread","pasta","fruits","veggies"]
items


items[0:3]


items.append("butter")
items


items = ["bread","pasta","fruits","veggies"]
items


items.insert(1,"butter")
items


items


"bread" in items


expenses = [30,1200,45,300]
expenses


expenses.sort()
expenses


my_list=["zebra","bro","apple"]
my_list.sort(reverse=True)
my_list





food_items=["bread","pasta","fruits"]
bathroom_items=["shampoo","soap"]


all_items = food_items + bathroom_items
all_items


len(all_items)


dir(all_items)


items


items.reverse()
items


random = ["car", 4.5, True]
random





3==3


3==4


10>9


4<4


4<=4


4==4


not 4==4



