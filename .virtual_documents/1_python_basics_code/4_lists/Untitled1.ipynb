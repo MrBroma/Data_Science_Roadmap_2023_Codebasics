


avengers = ["Iron Man", "Captain America", "Black Widow", "Hulk", "Thor", "Hawkeye"]





len(avengers)


print(f"The list of avengers is composed of {len(avengers)} members")





avengers.append("Spider-Man")
avengers





avengers.remove("Iron Man")
avengers.insert(0, "Iron Man")
avengers





avengers.remove("Hawkeye")
avengers.insert(4, "Hawkeye")
avengers





avengers.clear()


avengers = ['Doctor Strange', 'Vision', 'Wanda', 'Kate Bishop', 'Ant-Man']


avengers








avengers.sort()
avengers



