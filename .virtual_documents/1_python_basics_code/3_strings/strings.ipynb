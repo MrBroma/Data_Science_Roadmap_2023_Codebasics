


first = "Mohan"
last = "Sharma"


type(first)


name = first + " " + last
name


name = f'{first} {last}'
name


name[0]


name[1]


name[0:5]


name[6:]


name[-1]


name[-6:]


name[11]


name[12]


len(name)





my_food = "samosa,jalebi"


'samosa' in my_food


'pasta' in my_food


'pasta' not in my_food





my_food = 'samosa,jalebi'


food_story = "dhaval's favourite food is banana"
s = 'he said "oops"'
s


food_review = '''I was forced to do fast after seeing food in my plate in this amazing restaurant. 
You know what they are known for? They help people maintain the weight!
'''


food_review





s = "patient was charged 100$ for lab test"
s


s = s.replace("100$","50$")
s


dir(s)


s.upper()


'410'.isdigit()


'410a'.isdigit()


s


s.index('was')


age=38
text="my age is:"
text+age


age


str(age)


text+str(age)





height = 65
weight = 75


patient_information = f"Height: {height} cm, Weight: {weight} kg"
patient_information


patient_information = f"Height: {height} cm\nWeight: {weight} kg"
print(patient_information)


s="hey\tbro"
print(s)
