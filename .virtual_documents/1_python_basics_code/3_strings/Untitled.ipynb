help(str)





fruits = 2
vegetables = 2
print(f"I eat {fruits} fruits and {vegetables} vegetables every day")





x = "The Himalayas are one of the youngest mountain ranges on the planet."


x


print(x[:13])


print(x[-30:-16])


print(f"{x[:13]} {x[-14:-1]}")





string= "There are 9 planets in the solar system"


string


string.replace("9", "8")



